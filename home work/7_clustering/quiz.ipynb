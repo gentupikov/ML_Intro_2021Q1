{
 "cells": [
  {
   "cell_type": "code",
   "execution_count": 1,
   "id": "educational-perth",
   "metadata": {},
   "outputs": [],
   "source": [
    "from sklearn.linear_model import LogisticRegression\n",
    "from sklearn.neighbors import KNeighborsClassifier\n",
    "from sklearn.model_selection import GridSearchCV\n",
    "from sklearn import metrics"
   ]
  },
  {
   "cell_type": "code",
   "execution_count": 2,
   "id": "parliamentary-cloud",
   "metadata": {},
   "outputs": [],
   "source": [
    "import os\n",
    "import numpy as np\n",
    "import pandas as pd\n",
    "import seaborn as sns\n",
    "import matplotlib.pyplot as plt\n"
   ]
  },
  {
   "cell_type": "code",
   "execution_count": 3,
   "id": "valuable-allen",
   "metadata": {},
   "outputs": [],
   "source": [
    "data = np.array([\n",
    "    [-1, -1],\n",
    "    [-2, -1],\n",
    "    [-1, -2],\n",
    "    [0, 0],\n",
    "    [2, 1],\n",
    "    [2, 3]\n",
    "])"
   ]
  },
  {
   "cell_type": "code",
   "execution_count": 4,
   "id": "removable-aviation",
   "metadata": {},
   "outputs": [],
   "source": [
    "from sklearn.cluster import AgglomerativeClustering\n",
    "clustering = AgglomerativeClustering().fit(data)"
   ]
  },
  {
   "cell_type": "code",
   "execution_count": 6,
   "id": "processed-reminder",
   "metadata": {},
   "outputs": [
    {
     "data": {
      "text/plain": [
       "array([0, 0, 0, 0, 1, 1])"
      ]
     },
     "execution_count": 6,
     "metadata": {},
     "output_type": "execute_result"
    }
   ],
   "source": [
    "clustering.labels_"
   ]
  },
  {
   "cell_type": "code",
   "execution_count": 36,
   "id": "meaning-nutrition",
   "metadata": {},
   "outputs": [],
   "source": [
    "from sklearn.cluster import KMeans\n",
    "cluster_kmeans = KMeans(n_init=1, n_clusters=2).fit(data)"
   ]
  },
  {
   "cell_type": "code",
   "execution_count": 37,
   "id": "substantial-elimination",
   "metadata": {},
   "outputs": [
    {
     "data": {
      "text/plain": [
       "array([1, 1, 1, 0, 0, 0], dtype=int32)"
      ]
     },
     "execution_count": 37,
     "metadata": {},
     "output_type": "execute_result"
    }
   ],
   "source": [
    "cluster_kmeans.labels_"
   ]
  },
  {
   "cell_type": "code",
   "execution_count": 9,
   "id": "pressing-musical",
   "metadata": {},
   "outputs": [
    {
     "data": {
      "text/plain": [
       "array([[-1., -1.],\n",
       "       [ 2.,  2.]])"
      ]
     },
     "execution_count": 9,
     "metadata": {},
     "output_type": "execute_result"
    }
   ],
   "source": [
    "cluster_kmeans.cluster_centers_"
   ]
  },
  {
   "cell_type": "code",
   "execution_count": 29,
   "id": "vital-quest",
   "metadata": {},
   "outputs": [],
   "source": [
    "from sklearn.cluster import DBSCAN\n",
    "cluster_dbscan = DBSCAN(eps=2, min_samples=2).fit(data)"
   ]
  },
  {
   "cell_type": "code",
   "execution_count": 30,
   "id": "surprised-hungarian",
   "metadata": {},
   "outputs": [
    {
     "data": {
      "text/plain": [
       "array([0, 0, 0, 0, 1, 1])"
      ]
     },
     "execution_count": 30,
     "metadata": {},
     "output_type": "execute_result"
    }
   ],
   "source": [
    "cluster_dbscan.labels_"
   ]
  },
  {
   "cell_type": "code",
   "execution_count": 38,
   "id": "advanced-floor",
   "metadata": {},
   "outputs": [],
   "source": [
    "from sklearn.metrics import silhouette_score"
   ]
  },
  {
   "cell_type": "code",
   "execution_count": 40,
   "id": "sixth-document",
   "metadata": {},
   "outputs": [
    {
     "data": {
      "text/plain": [
       "0.45993283428643883"
      ]
     },
     "execution_count": 40,
     "metadata": {},
     "output_type": "execute_result"
    }
   ],
   "source": [
    "silhouette_score(data, cluster_kmeans.labels_)"
   ]
  },
  {
   "cell_type": "code",
   "execution_count": 45,
   "id": "worthy-current",
   "metadata": {},
   "outputs": [
    {
     "data": {
      "text/plain": [
       "PCA()"
      ]
     },
     "execution_count": 45,
     "metadata": {},
     "output_type": "execute_result"
    }
   ],
   "source": [
    "from sklearn.decomposition import PCA\n",
    "pca = PCA()\n",
    "pca.fit(data)"
   ]
  },
  {
   "cell_type": "code",
   "execution_count": 47,
   "id": "fuzzy-vertical",
   "metadata": {},
   "outputs": [
    {
     "name": "stdout",
     "output_type": "stream",
     "text": [
      "[5.29513029 1.40056959]\n"
     ]
    }
   ],
   "source": [
    "print(pca.singular_values_)"
   ]
  },
  {
   "cell_type": "code",
   "execution_count": 48,
   "id": "liable-hollow",
   "metadata": {},
   "outputs": [
    {
     "data": {
      "text/plain": [
       "array([[ 0.67944959,  0.73372219],\n",
       "       [-0.73372219,  0.67944959]])"
      ]
     },
     "execution_count": 48,
     "metadata": {},
     "output_type": "execute_result"
    }
   ],
   "source": [
    "pca.components_"
   ]
  },
  {
   "cell_type": "code",
   "execution_count": 49,
   "id": "spectacular-munich",
   "metadata": {},
   "outputs": [],
   "source": [
    "B = pca.transform(data)"
   ]
  },
  {
   "cell_type": "code",
   "execution_count": 51,
   "id": "configured-thriller",
   "metadata": {},
   "outputs": [
    {
     "name": "stdout",
     "output_type": "stream",
     "text": [
      "[[-1.41317178  0.05427259]\n",
      " [-2.09262138  0.78799478]\n",
      " [-2.14689397 -0.625177  ]\n",
      " [ 0.          0.        ]\n",
      " [ 2.09262138 -0.78799478]\n",
      " [ 3.56006575  0.57090441]]\n"
     ]
    }
   ],
   "source": [
    "print(B)"
   ]
  },
  {
   "cell_type": "code",
   "execution_count": 62,
   "id": "matched-sister",
   "metadata": {},
   "outputs": [
    {
     "name": "stdout",
     "output_type": "stream",
     "text": [
      "0.6214548112827021\n",
      "0.7300000000000002\n",
      "1.2436564359571705\n",
      "1.1351112472398723\n"
     ]
    }
   ],
   "source": [
    "for j in [list_1, list_2, list_3, list_4]:\n",
    "    error = []\n",
    "    for i in range(len(B)):\n",
    "        error.append(abs(B[i][0] - j[i]))\n",
    "    print(sum(error))\n",
    "#for i in B:\n",
    "#    print(i[0])"
   ]
  },
  {
   "cell_type": "code",
   "execution_count": 56,
   "id": "perceived-special",
   "metadata": {},
   "outputs": [],
   "source": [
    "list_1 = [-1.34, -1.98, -2.46, 0.00, 2.09, 3.68]\n",
    "list_2 = [-1.34, -2.46, -1.98, 0.00, 2.09, 3.68]\n",
    "list_3 = [-1.67, -2.46, -1.65, 0.00, 2.09, 3.68]\n",
    "list_4 = [-1.67, -1.65, -2.46, 0.00, 2.09, 3.68]"
   ]
  },
  {
   "cell_type": "code",
   "execution_count": null,
   "id": "combined-float",
   "metadata": {},
   "outputs": [],
   "source": []
  }
 ],
 "metadata": {
  "kernelspec": {
   "display_name": "Python 3",
   "language": "python",
   "name": "python3"
  },
  "language_info": {
   "codemirror_mode": {
    "name": "ipython",
    "version": 3
   },
   "file_extension": ".py",
   "mimetype": "text/x-python",
   "name": "python",
   "nbconvert_exporter": "python",
   "pygments_lexer": "ipython3",
   "version": "3.8.5"
  }
 },
 "nbformat": 4,
 "nbformat_minor": 5
}
